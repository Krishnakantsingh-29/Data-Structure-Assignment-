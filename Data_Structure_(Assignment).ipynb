{
  "nbformat": 4,
  "nbformat_minor": 0,
  "metadata": {
    "colab": {
      "provenance": []
    },
    "kernelspec": {
      "name": "python3",
      "display_name": "Python 3"
    },
    "language_info": {
      "name": "python"
    }
  },
  "cells": [
    {
      "cell_type": "markdown",
      "source": [
        "**Data Structure Assignment**"
      ],
      "metadata": {
        "id": "rwWrJDtpZmbd"
      }
    },
    {
      "cell_type": "markdown",
      "source": [
        "1. What are data structures, and why are they important3"
      ],
      "metadata": {
        "id": "rpflCmwjZwDM"
      }
    },
    {
      "cell_type": "markdown",
      "source": [
        "Ans - Data structures are special formats or ways to organize, store, and manage data so that we can use it efficiently.\n",
        "Think of them as containers that hold your data and determine how you can interact with it. Different containers are better suited for different types of items.\n",
        "\n",
        "a) It is important because -\n",
        "They help in easy data access and modification.\n",
        "\n",
        "b) They make code cleaner, faster, and more organized.\n",
        "\n",
        "c) It optimizes searching and sorting operations.\n",
        "\n",
        "d) It also conserves memory usage."
      ],
      "metadata": {
        "id": "skeKiWXcZ7Dz"
      }
    },
    {
      "cell_type": "markdown",
      "source": [
        "2.Explain the difference between mutable and immutable data types with examples ?"
      ],
      "metadata": {
        "id": "SvZESkKQZ7sH"
      }
    },
    {
      "cell_type": "markdown",
      "source": [
        "Ans - a) Mutable means you can change the data after creating it.\n",
        "\n",
        "b) Immutable means you cannot change the data once it is created.\n",
        "\n",
        "EXAMPLES :\n",
        "- Mutable: list, dictionary, set"
      ],
      "metadata": {
        "id": "V7A3mnOwZ8c3"
      }
    },
    {
      "cell_type": "code",
      "source": [
        "my_list = [1, 2, 3]\n",
        "my_list[0] = 100  # we can change the value"
      ],
      "metadata": {
        "id": "Od0kY4NYbPpc"
      },
      "execution_count": null,
      "outputs": []
    },
    {
      "cell_type": "markdown",
      "source": [
        "- Immutable: int, float, string, tuple"
      ],
      "metadata": {
        "id": "z95fJt4xZ8-J"
      }
    },
    {
      "cell_type": "code",
      "execution_count": null,
      "metadata": {
        "id": "es5TE59HZbY0"
      },
      "outputs": [],
      "source": [
        "name = \"John\"\n",
        "name[0] = \"P\"  # ❌ This will cause an error because strings are immutable"
      ]
    },
    {
      "cell_type": "markdown",
      "source": [
        "3. What are the main differences between lists and tuples in Python ?"
      ],
      "metadata": {
        "id": "HbAZEwK1bxdP"
      }
    },
    {
      "cell_type": "markdown",
      "source": [
        "Ans - Lists and tuples are both used to store many values in Python, but they have some important differences:\n",
        "\n",
        "1. **Changeable or Not:**\n",
        "\n",
        "   * **List:** You **can change** the items in a list (add, remove, or update).\n",
        "   * **Tuple:** You **cannot change** the items in a tuple once it is created.\n",
        "\n",
        "2. **Brackets Used:**\n",
        "\n",
        "   * **List:** Uses **square brackets** → `[ ]`\n",
        "     Example: `my_list = [1, 2, 3]`\n",
        "   * **Tuple:** Uses **round brackets** → `( )`\n",
        "     Example: `my_tuple = (1, 2, 3)`\n",
        "\n",
        "3. **Speed:**\n",
        "\n",
        "   * Tuples are a bit **faster** than lists when working with large data.\n",
        "   * Lists are a bit **slower** but more flexible.\n",
        "\n",
        "4. **When to Use:**\n",
        "\n",
        "   * Use **lists** if you want to **change the data** later (like a to-do list).\n",
        "   * Use **tuples** if the data should **stay the same** (like days of the week).\n",
        "\n",
        "5. **Built-in Functions:**\n",
        "\n",
        "   * Lists have **more functions** like `append()`, `remove()`, etc.\n",
        "   * Tuples have **fewer functions** because they can't be changed.\n"
      ],
      "metadata": {
        "id": "jPi5nPuMb4gc"
      }
    },
    {
      "cell_type": "markdown",
      "source": [
        "4. Describe how dictionaries store data?"
      ],
      "metadata": {
        "id": "Dj5FZzCZcYaW"
      }
    },
    {
      "cell_type": "markdown",
      "source": [
        "Ans - Dictionaries store data as key-value pairs. Each unique key maps to a value."
      ],
      "metadata": {
        "id": "BsPzWMUXcfdD"
      }
    },
    {
      "cell_type": "code",
      "source": [
        "student = {\"name\": \"Ajay\", \"age\": 20}"
      ],
      "metadata": {
        "id": "h8MXVaCfclki"
      },
      "execution_count": null,
      "outputs": []
    },
    {
      "cell_type": "markdown",
      "source": [
        "Here, \"name\" is a key and \"Ankit\" is the value."
      ],
      "metadata": {
        "id": "kG0jXEbDcr3I"
      }
    },
    {
      "cell_type": "markdown",
      "source": [
        "5. Why might you use a set instead of a list in Python?"
      ],
      "metadata": {
        "id": "2i7XexjMct8N"
      }
    },
    {
      "cell_type": "markdown",
      "source": [
        "Ans- Sets automatically remove duplicates.\n",
        "\n",
        "Sets are faster for checking if an item exists.\n",
        "\n",
        "Example:"
      ],
      "metadata": {
        "id": "2PRh_hYYcyXv"
      }
    },
    {
      "cell_type": "code",
      "source": [
        "s = {1, 2, 2, 3}\n",
        "print(s)  # Output: {1, 2, 3}"
      ],
      "metadata": {
        "id": "9Tgqt-bbc4z0",
        "colab": {
          "base_uri": "https://localhost:8080/"
        },
        "outputId": "63f72764-7e56-46d1-8899-dd8b6b19a64c"
      },
      "execution_count": 57,
      "outputs": [
        {
          "output_type": "stream",
          "name": "stdout",
          "text": [
            "{1, 2, 3}\n"
          ]
        }
      ]
    },
    {
      "cell_type": "markdown",
      "source": [
        "6. What is a string in Python, and how is it different from a list?"
      ],
      "metadata": {
        "id": "IifEL5hBc8NU"
      }
    },
    {
      "cell_type": "markdown",
      "source": [
        "A string is a sequence of characters, like \"hello\".\n",
        "\n",
        "A list is a collection of items that can be of any data type.\n",
        "\n",
        "Difference:\n",
        "\n",
        "Strings are immutable (can’t be changed), lists are mutable.\n",
        "\n",
        "Strings store only characters, lists can store anything.\n",
        "\n"
      ],
      "metadata": {
        "id": "fMMcULNCdAC3"
      }
    },
    {
      "cell_type": "code",
      "source": [
        "name = \"hello\"        # string\n",
        "items = [\"h\", \"e\", 1]  # list"
      ],
      "metadata": {
        "id": "GNOZbFF3dHVq"
      },
      "execution_count": null,
      "outputs": []
    },
    {
      "cell_type": "markdown",
      "source": [
        "7. How do tuples ensure data integrity in Python?**bold text**"
      ],
      "metadata": {
        "id": "1E4k_hbedLbM"
      }
    },
    {
      "cell_type": "markdown",
      "source": [
        "Ans- Tuples are immutable, their data can’t be changed by accident. This helps keep the data safe and consistent, especially in programs where data shouldn’t change.\n"
      ],
      "metadata": {
        "id": "CzajBBTndQgV"
      }
    },
    {
      "cell_type": "markdown",
      "source": [
        "8. What is a hash table, and how does it relate to dictionaries in Python?"
      ],
      "metadata": {
        "id": "eJFRSJANdWeR"
      }
    },
    {
      "cell_type": "markdown",
      "source": [
        "Ans- A hash table is a data structure that stores data using a hash function to map keys to values.\n",
        "\n",
        "Python dictionaries are implemented using hash tables, making lookups and updates very fast."
      ],
      "metadata": {
        "id": "4kIn_Wb7djUn"
      }
    },
    {
      "cell_type": "markdown",
      "source": [
        "9. Can lists contain different data types in Python?"
      ],
      "metadata": {
        "id": "lLjaBa8qdlsC"
      }
    },
    {
      "cell_type": "markdown",
      "source": [
        "Ans- Yes! Lists in Python can store mixed data types."
      ],
      "metadata": {
        "id": "4Pvcew3zdpdd"
      }
    },
    {
      "cell_type": "code",
      "source": [
        "my_list = [1, \"apple\", 3.5, True]"
      ],
      "metadata": {
        "id": "e68SKKqIdu90"
      },
      "execution_count": null,
      "outputs": []
    },
    {
      "cell_type": "markdown",
      "source": [
        "10. Explain why strings are immutable in Python ?"
      ],
      "metadata": {
        "id": "i9orjFwtdx4x"
      }
    },
    {
      "cell_type": "markdown",
      "source": [
        "Ans- Strings are immutable to:\n",
        "\n",
        "Ensure data safety when used across programs.\n",
        "\n",
        "Improve performance, especially when shared or reused.\n",
        "\n",
        "Make them hashable, so they can be used as keys in dictionaries."
      ],
      "metadata": {
        "id": "axq5VLWwd4JM"
      }
    },
    {
      "cell_type": "markdown",
      "source": [
        "11. What advantages do dictionaries offer over lists for certain tasks?"
      ],
      "metadata": {
        "id": "ScRFQJVBd5sC"
      }
    },
    {
      "cell_type": "markdown",
      "source": [
        "Ans- Dictionaries allow faster access using keys, unlike lists which use index numbers.\n",
        "\n",
        "Keys make data easier to understand (e.g., \"name\" is better than index 0).\n",
        "\n",
        "Example:\n"
      ],
      "metadata": {
        "id": "Ier5D6W6d6Jl"
      }
    },
    {
      "cell_type": "code",
      "source": [
        "person = {\"name\": \"Ajay\", \"age\": 30}\n"
      ],
      "metadata": {
        "id": "XRNDx5zPd1UX"
      },
      "execution_count": null,
      "outputs": []
    },
    {
      "cell_type": "markdown",
      "source": [
        "12.  Describe a scenario where using a tuple would be preferable over a list ?"
      ],
      "metadata": {
        "id": "KcBgBcO3eNeo"
      }
    },
    {
      "cell_type": "markdown",
      "source": [
        "Ans- When storing fixed data like dates or coordinates that should not change:"
      ],
      "metadata": {
        "id": "suZV9o3VeTjy"
      }
    },
    {
      "cell_type": "code",
      "source": [
        "location = (28.61, 77.23)  # Latitude, Longitude"
      ],
      "metadata": {
        "id": "hZ2bCXwueYZZ"
      },
      "execution_count": null,
      "outputs": []
    },
    {
      "cell_type": "markdown",
      "source": [
        "We can use a tuple to prevent accidental modification."
      ],
      "metadata": {
        "id": "UyxVjvwpeerv"
      }
    },
    {
      "cell_type": "markdown",
      "source": [
        "13. How do sets handle duplicate values in Python?"
      ],
      "metadata": {
        "id": "MuCndTXNeiI6"
      }
    },
    {
      "cell_type": "markdown",
      "source": [
        "Ans- Sets do not allow duplicates. If you add duplicate values, Python automatically removes them."
      ],
      "metadata": {
        "id": "7rk_atr5emEs"
      }
    },
    {
      "cell_type": "code",
      "source": [
        "s = {1, 2, 2, 3}\n",
        "print(s)  # Output: {1, 2, 3}"
      ],
      "metadata": {
        "colab": {
          "base_uri": "https://localhost:8080/"
        },
        "id": "Sf8O_oGjeqer",
        "outputId": "a84a3ce1-87a1-42b5-c7af-f3b3fe9bf995"
      },
      "execution_count": null,
      "outputs": [
        {
          "output_type": "stream",
          "name": "stdout",
          "text": [
            "{1, 2, 3}\n"
          ]
        }
      ]
    },
    {
      "cell_type": "markdown",
      "source": [
        "14. How does the “in” keyword work differently for lists and dictionaries?"
      ],
      "metadata": {
        "id": "ZQLP4QZjeuvG"
      }
    },
    {
      "cell_type": "markdown",
      "source": [
        "Ans -\n",
        "\n",
        "1.   In lists, it checks if a value exists.\n",
        "2.  In dictionaries, it checks if a key exists.\n",
        "\n"
      ],
      "metadata": {
        "id": "fIhVvsVjezSd"
      }
    },
    {
      "cell_type": "code",
      "source": [
        "5 in [1, 2, 5]         # True\n",
        "\"name\" in {\"name\": \"Bijay\"}  # True (checks for key, not value)"
      ],
      "metadata": {
        "colab": {
          "base_uri": "https://localhost:8080/"
        },
        "id": "pp9hxK7rfB9P",
        "outputId": "62cab825-d9ca-4fa6-fb1e-bc6eca0e284a"
      },
      "execution_count": null,
      "outputs": [
        {
          "output_type": "execute_result",
          "data": {
            "text/plain": [
              "True"
            ]
          },
          "metadata": {},
          "execution_count": 10
        }
      ]
    },
    {
      "cell_type": "markdown",
      "source": [
        "15. Can you modify the elements of a tuple? Explain why or why not ?"
      ],
      "metadata": {
        "id": "i9HODj_yfIff"
      }
    },
    {
      "cell_type": "markdown",
      "source": [
        "Ans - No, you cannot modify a tuple because it is immutable. Once created, its elements cannot be changed."
      ],
      "metadata": {
        "id": "HDfECrqofYtx"
      }
    },
    {
      "cell_type": "code",
      "source": [
        "t = (1, 2, 3)\n",
        "t[0] = 10  # ❌ It will raise an error"
      ],
      "metadata": {
        "id": "HQFEGFYffiG9"
      },
      "execution_count": null,
      "outputs": []
    },
    {
      "cell_type": "markdown",
      "source": [
        "16. What is a nested dictionary, and give an example of its use case ?"
      ],
      "metadata": {
        "id": "7drADJ9ZfjNM"
      }
    },
    {
      "cell_type": "markdown",
      "source": [
        "Ans - A nested dictionary is a dictionary inside another dictionary.\n",
        "\n",
        "Use case: Store multiple students’ details:\n",
        "\n",
        "\n"
      ],
      "metadata": {
        "id": "KrRP0G0UfqEd"
      }
    },
    {
      "cell_type": "code",
      "source": [
        "students = {\n",
        "  \"101\": {\"name\": \"Amit\", \"marks\": 80},\n",
        "  \"102\": {\"name\": \"Sara\", \"marks\": 90}\n",
        "}"
      ],
      "metadata": {
        "id": "XxfrLmevfwoe"
      },
      "execution_count": null,
      "outputs": []
    },
    {
      "cell_type": "markdown",
      "source": [
        "17.  Describe the time complexity of accessing elements in a dictionary ?"
      ],
      "metadata": {
        "id": "j4Lj49msfuQx"
      }
    },
    {
      "cell_type": "markdown",
      "source": [
        "Ans - Accessing a value by key in a dictionary is O(1) on average.\n",
        "This means it’s very fast, no matter how big the dictionary is."
      ],
      "metadata": {
        "id": "AgjFwOm-f6ax"
      }
    },
    {
      "cell_type": "markdown",
      "source": [
        "18. In what situations are lists preferred over dictionaries?"
      ],
      "metadata": {
        "id": "t2V2jZ-Hf_GG"
      }
    },
    {
      "cell_type": "markdown",
      "source": [
        "Ans - 1.When order matters (e.g., top 10 scores).\n",
        "\n",
        "2.When you only need to store items, not key-value pairs"
      ],
      "metadata": {
        "id": "XCvgG9KZgD-p"
      }
    },
    {
      "cell_type": "code",
      "source": [
        "scores = [90, 80, 70]  # Better than using a dictionary here"
      ],
      "metadata": {
        "id": "V-YiCR0NgNA_"
      },
      "execution_count": null,
      "outputs": []
    },
    {
      "cell_type": "markdown",
      "source": [
        "19. Why are dictionaries considered unordered, and how does that affect data retrieval?"
      ],
      "metadata": {
        "id": "iyWFvL_pgRZm"
      }
    },
    {
      "cell_type": "markdown",
      "source": [
        "Ans - Earlier versions of Python (<3.7) didn’t maintain the insertion order. Even though modern Python does, you should not depend on order when using dictionaries.\n",
        "Data is retrieved by key, not by position."
      ],
      "metadata": {
        "id": "jIf3TT4BgVWv"
      }
    },
    {
      "cell_type": "markdown",
      "source": [
        "20. Explain the difference between a list and a dictionary in terms of data retrieval ?"
      ],
      "metadata": {
        "id": "FthIJo2ogeLO"
      }
    },
    {
      "cell_type": "markdown",
      "source": [
        "Ans - 1.In a list, you retrieve data using an index number (position).\n",
        "\n",
        "2.In a dictionary, you retrieve data using a key."
      ],
      "metadata": {
        "id": "z4UVLjbagjY5"
      }
    },
    {
      "cell_type": "code",
      "source": [
        "# List\n",
        "colors = [\"red\", \"blue\"]\n",
        "print(colors[0])  # \"red\"\n",
        "\n",
        "# Dictionary\n",
        "fruits = {\"a\": \"apple\", \"b\": \"banana\"}\n",
        "print(fruits[\"b\"])  # \"banana\""
      ],
      "metadata": {
        "colab": {
          "base_uri": "https://localhost:8080/"
        },
        "id": "3KeNHHiSgow3",
        "outputId": "95d26d79-1de2-417a-a37d-22c70bbcc2a9"
      },
      "execution_count": null,
      "outputs": [
        {
          "output_type": "stream",
          "name": "stdout",
          "text": [
            "red\n",
            "banana\n"
          ]
        }
      ]
    },
    {
      "cell_type": "markdown",
      "source": [
        "**Practical Questions**--->"
      ],
      "metadata": {
        "id": "EM01GKqogvh1"
      }
    },
    {
      "cell_type": "markdown",
      "source": [
        "1. Write a code to create a string with your name and print it ?"
      ],
      "metadata": {
        "id": "2F_Jge3gg0Bn"
      }
    },
    {
      "cell_type": "code",
      "source": [
        "name = \"Krishna kant Singh\"\n",
        "print(name)"
      ],
      "metadata": {
        "colab": {
          "base_uri": "https://localhost:8080/"
        },
        "id": "H82bJsothGuA",
        "outputId": "5bd8b60a-fb65-4453-8ce3-e9bc3fc298ad"
      },
      "execution_count": null,
      "outputs": [
        {
          "output_type": "stream",
          "name": "stdout",
          "text": [
            "Krishna kant Singh\n"
          ]
        }
      ]
    },
    {
      "cell_type": "markdown",
      "source": [
        "2. Write a code to find the length of the string \"Hello World\"?"
      ],
      "metadata": {
        "id": "OTd851iLhTkQ"
      }
    },
    {
      "cell_type": "code",
      "source": [
        "a=\"Hello world\"\n",
        "print(len(a))"
      ],
      "metadata": {
        "colab": {
          "base_uri": "https://localhost:8080/"
        },
        "id": "L00seyJRhbg5",
        "outputId": "ff5c2961-ff2e-4ca4-8e06-89ce3eb6553e"
      },
      "execution_count": null,
      "outputs": [
        {
          "output_type": "stream",
          "name": "stdout",
          "text": [
            "11\n"
          ]
        }
      ]
    },
    {
      "cell_type": "markdown",
      "source": [
        "3. Write a code to slice the first 3 characters from the string \"Python Programming\"?"
      ],
      "metadata": {
        "id": "4XJ8rHHAg8ug"
      }
    },
    {
      "cell_type": "code",
      "source": [
        "s = \"Python Programming\"\n",
        "print(s[0:3])"
      ],
      "metadata": {
        "colab": {
          "base_uri": "https://localhost:8080/"
        },
        "id": "xTQrHSiQhnzS",
        "outputId": "1babbd24-47cc-43da-9c7c-0a2c42dd7896"
      },
      "execution_count": null,
      "outputs": [
        {
          "output_type": "stream",
          "name": "stdout",
          "text": [
            "Pyt\n"
          ]
        }
      ]
    },
    {
      "cell_type": "markdown",
      "source": [
        "4. Write a code to convert the string \"hello\" to uppercase ?"
      ],
      "metadata": {
        "id": "pZ1tcL4UYXQ5"
      }
    },
    {
      "cell_type": "code",
      "source": [
        "string = \"Hello\"\n",
        "print (string.upper())"
      ],
      "metadata": {
        "colab": {
          "base_uri": "https://localhost:8080/"
        },
        "id": "l-Xc1iFR634x",
        "outputId": "cd39fde9-6a66-4820-e134-43ca9445a0a3"
      },
      "execution_count": 1,
      "outputs": [
        {
          "output_type": "stream",
          "name": "stdout",
          "text": [
            "HELLO\n"
          ]
        }
      ]
    },
    {
      "cell_type": "markdown",
      "source": [
        "5. Write a code to replace the word \"apple\" with \"orange\" in the string \"I like apple\"?"
      ],
      "metadata": {
        "id": "62pEUQbk7B4a"
      }
    },
    {
      "cell_type": "code",
      "source": [
        "string = \"I Like Apple\"\n",
        "new_string= string.replace(\"Apple\",\"Orange\")\n",
        "print (new_string)"
      ],
      "metadata": {
        "colab": {
          "base_uri": "https://localhost:8080/"
        },
        "id": "yAFXV7sm7ABn",
        "outputId": "9a6de68c-9e30-4b4b-bd88-8d95293618c0"
      },
      "execution_count": 2,
      "outputs": [
        {
          "output_type": "stream",
          "name": "stdout",
          "text": [
            "I Like Orange\n"
          ]
        }
      ]
    },
    {
      "cell_type": "markdown",
      "source": [
        "6. Write a code to create a list with numbers 1 to 5 and print it ?"
      ],
      "metadata": {
        "id": "OJ8jlqR17hwY"
      }
    },
    {
      "cell_type": "code",
      "source": [
        "numbers = [1,2,3,4,5]\n",
        "print (numbers)"
      ],
      "metadata": {
        "colab": {
          "base_uri": "https://localhost:8080/"
        },
        "id": "C1Wni1Cq7mfa",
        "outputId": "92c1330c-fc0e-41c1-a4e8-297867659c79"
      },
      "execution_count": 3,
      "outputs": [
        {
          "output_type": "stream",
          "name": "stdout",
          "text": [
            "[1, 2, 3, 4, 5]\n"
          ]
        }
      ]
    },
    {
      "cell_type": "markdown",
      "source": [
        "7.  Write a code to append the number 10 to the list [1, 2, 3, 4] ?"
      ],
      "metadata": {
        "id": "K2jg3in97tvH"
      }
    },
    {
      "cell_type": "code",
      "source": [
        "list= [1,2,3,4]\n",
        "list.append(10)\n",
        "print (list)"
      ],
      "metadata": {
        "colab": {
          "base_uri": "https://localhost:8080/"
        },
        "id": "OqR4YBY47ycq",
        "outputId": "11fb4103-13ce-4a6d-defd-2e6f1466877c"
      },
      "execution_count": 4,
      "outputs": [
        {
          "output_type": "stream",
          "name": "stdout",
          "text": [
            "[1, 2, 3, 4, 10]\n"
          ]
        }
      ]
    },
    {
      "cell_type": "markdown",
      "source": [
        "8. Write a code to remove the number 3 from the list [1, 2, 3, 4, 5] ?"
      ],
      "metadata": {
        "id": "15MRB1WM752Q"
      }
    },
    {
      "cell_type": "code",
      "source": [
        "list = [1,2,3,4,5]\n",
        "list.remove(3)\n",
        "print(list)"
      ],
      "metadata": {
        "colab": {
          "base_uri": "https://localhost:8080/"
        },
        "id": "71IWugmx7-0c",
        "outputId": "4dc1ab96-ec38-4034-b436-d6fb3bba6baf"
      },
      "execution_count": 5,
      "outputs": [
        {
          "output_type": "stream",
          "name": "stdout",
          "text": [
            "[1, 2, 4, 5]\n"
          ]
        }
      ]
    },
    {
      "cell_type": "markdown",
      "source": [
        "9. Write a code to access the second element in the list ['a', 'b', 'c', 'd']?"
      ],
      "metadata": {
        "id": "z6wvkTyN8Giq"
      }
    },
    {
      "cell_type": "code",
      "source": [
        "list = ['a','b','c','d']\n",
        "print (list[1])"
      ],
      "metadata": {
        "colab": {
          "base_uri": "https://localhost:8080/"
        },
        "id": "-A2IBZU78HQ_",
        "outputId": "87629949-d4f0-47da-a57a-0991e3c6a9e7"
      },
      "execution_count": 6,
      "outputs": [
        {
          "output_type": "stream",
          "name": "stdout",
          "text": [
            "b\n"
          ]
        }
      ]
    },
    {
      "cell_type": "markdown",
      "source": [
        "10. Write a code to reverse the list [10, 20, 30, 40, 50] ?"
      ],
      "metadata": {
        "id": "_rNYI1pO8Hpq"
      }
    },
    {
      "cell_type": "code",
      "source": [
        "numbers = [10,20,30,40,50]\n",
        "numbers.reverse()\n",
        "print (numbers)"
      ],
      "metadata": {
        "colab": {
          "base_uri": "https://localhost:8080/"
        },
        "id": "B_q5kXkR8IeW",
        "outputId": "54bb4719-c3f2-42e3-cb28-60b9a3c37a14"
      },
      "execution_count": 7,
      "outputs": [
        {
          "output_type": "stream",
          "name": "stdout",
          "text": [
            "[50, 40, 30, 20, 10]\n"
          ]
        }
      ]
    },
    {
      "cell_type": "markdown",
      "source": [
        "11. . Write a code to create a tuple with the elements 100, 200, 300 and print it ?"
      ],
      "metadata": {
        "id": "SAUlHld48JVl"
      }
    },
    {
      "cell_type": "code",
      "source": [
        "tuple = (100,200,300)\n",
        "print (tuple)"
      ],
      "metadata": {
        "colab": {
          "base_uri": "https://localhost:8080/"
        },
        "id": "MXoX2Wx48Jxp",
        "outputId": "69304ec8-700a-4a21-b909-a2e0fe90f31d"
      },
      "execution_count": 8,
      "outputs": [
        {
          "output_type": "stream",
          "name": "stdout",
          "text": [
            "(100, 200, 300)\n"
          ]
        }
      ]
    },
    {
      "cell_type": "markdown",
      "source": [
        "12.  Write a code to access the second-to-last element of the tuple ('red', 'green', 'blue', 'yellow')?"
      ],
      "metadata": {
        "id": "aqbz0Lh88KJF"
      }
    },
    {
      "cell_type": "code",
      "source": [
        "colors = ('red', 'green', 'blue', 'yellow')\n",
        "second_last = colors[-2]\n",
        "print(\"Second-to-last element:\", second_last)"
      ],
      "metadata": {
        "colab": {
          "base_uri": "https://localhost:8080/"
        },
        "id": "JwwG-7xp8K96",
        "outputId": "74825a27-1548-46f3-fd42-510583dfb3e1"
      },
      "execution_count": 9,
      "outputs": [
        {
          "output_type": "stream",
          "name": "stdout",
          "text": [
            "Second-to-last element: blue\n"
          ]
        }
      ]
    },
    {
      "cell_type": "markdown",
      "source": [
        "13. Write a code to find the minimum number in the tuple (10, 20, 5, 15)?"
      ],
      "metadata": {
        "id": "QnE0-6cs_Kps"
      }
    },
    {
      "cell_type": "code",
      "source": [
        "numbers = (10, 20, 5, 15)\n",
        "print(min(numbers))"
      ],
      "metadata": {
        "colab": {
          "base_uri": "https://localhost:8080/"
        },
        "id": "aGSOFbm3_Pp8",
        "outputId": "788197db-9738-4bca-ec91-870fbab6f4f2"
      },
      "execution_count": 15,
      "outputs": [
        {
          "output_type": "stream",
          "name": "stdout",
          "text": [
            "5\n"
          ]
        }
      ]
    },
    {
      "cell_type": "markdown",
      "source": [
        "14. Write a code to find the index of the element \"cat\" in the tuple ('dog', 'cat', 'rabbit')?"
      ],
      "metadata": {
        "id": "Vv7zzX44_6uT"
      }
    },
    {
      "cell_type": "code",
      "source": [
        "animals = ('dog', 'cat', 'rabbit')\n",
        "print(animals.index('cat'))"
      ],
      "metadata": {
        "colab": {
          "base_uri": "https://localhost:8080/"
        },
        "id": "qKNvyhFT_-WC",
        "outputId": "eddf07a7-a478-4d76-f98c-4584f576d45d"
      },
      "execution_count": 18,
      "outputs": [
        {
          "output_type": "stream",
          "name": "stdout",
          "text": [
            "1\n"
          ]
        }
      ]
    },
    {
      "cell_type": "markdown",
      "source": [
        "15. Write a code to create a tuple containing three different fruits and check if \"kiwi\" is in it?"
      ],
      "metadata": {
        "id": "bpMZz354AVd-"
      }
    },
    {
      "cell_type": "code",
      "source": [
        "Fruits = ('Apple', 'Banana','Mango')\n",
        "print ('kiwi' in Fruits)"
      ],
      "metadata": {
        "colab": {
          "base_uri": "https://localhost:8080/"
        },
        "id": "yymHryk7AZ1q",
        "outputId": "55f486f2-d396-4065-fed7-2279d45fcb3a"
      },
      "execution_count": 23,
      "outputs": [
        {
          "output_type": "execute_result",
          "data": {
            "text/plain": [
              "False"
            ]
          },
          "metadata": {},
          "execution_count": 23
        }
      ]
    },
    {
      "cell_type": "markdown",
      "source": [
        "16. Write a code to create a set with the elements 'a', 'b', 'c' and print it ?"
      ],
      "metadata": {
        "id": "JUuxJfvnAz_F"
      }
    },
    {
      "cell_type": "code",
      "source": [
        "s={'a','b','c'}\n",
        "print (s)"
      ],
      "metadata": {
        "colab": {
          "base_uri": "https://localhost:8080/"
        },
        "id": "35r3TnrnA4iK",
        "outputId": "921314a0-7227-4dfa-b85e-f868d1fae040"
      },
      "execution_count": 24,
      "outputs": [
        {
          "output_type": "stream",
          "name": "stdout",
          "text": [
            "{'a', 'b', 'c'}\n"
          ]
        }
      ]
    },
    {
      "cell_type": "markdown",
      "source": [
        "17. Write a code to clear all elements from the set {1, 2, 3, 4, 5}.?"
      ],
      "metadata": {
        "id": "zx5JzeD0BDkU"
      }
    },
    {
      "cell_type": "code",
      "source": [
        "s={1,2,3,4,5}\n",
        "s.clear()"
      ],
      "metadata": {
        "id": "2TTHe1WSBHzT"
      },
      "execution_count": 51,
      "outputs": []
    },
    {
      "cell_type": "markdown",
      "source": [
        "18. Write a code to remove the element 4 from the set {1, 2, 3, 4}.?"
      ],
      "metadata": {
        "id": "_p6xa6wHBQO1"
      }
    },
    {
      "cell_type": "code",
      "source": [
        "s = {1,2,3,4}\n",
        "s.remove(4)"
      ],
      "metadata": {
        "id": "a-qBlqdWBWLf"
      },
      "execution_count": 52,
      "outputs": []
    },
    {
      "cell_type": "markdown",
      "source": [
        "19. Write a code to find the union of two sets {1, 2, 3} and {3, 4, 5}?"
      ],
      "metadata": {
        "id": "6_CWCawCBciN"
      }
    },
    {
      "cell_type": "code",
      "source": [
        "s1={1,2,3}\n",
        "s2={3,4,5}\n",
        "print(s1.union(s2))"
      ],
      "metadata": {
        "colab": {
          "base_uri": "https://localhost:8080/"
        },
        "id": "dFnxYo_DBhN6",
        "outputId": "0fea5348-3269-4b7f-cb13-8e1614798f18"
      },
      "execution_count": 53,
      "outputs": [
        {
          "output_type": "stream",
          "name": "stdout",
          "text": [
            "{1, 2, 3, 4, 5}\n"
          ]
        }
      ]
    },
    {
      "cell_type": "markdown",
      "source": [
        "20. Write a code to find the intersection of two sets {1, 2, 3} and {2, 3, 4}?"
      ],
      "metadata": {
        "id": "hgnHMTFtBhzU"
      }
    },
    {
      "cell_type": "code",
      "source": [
        "s1={1,2,3}\n",
        "s2={2,3,4}\n",
        "print(s1.intersection(s2))"
      ],
      "metadata": {
        "colab": {
          "base_uri": "https://localhost:8080/"
        },
        "id": "P-amZ9zXBiUy",
        "outputId": "673779c6-4252-4fdd-e8eb-4390d2991714"
      },
      "execution_count": 49,
      "outputs": [
        {
          "output_type": "stream",
          "name": "stdout",
          "text": [
            "{2, 3}\n"
          ]
        }
      ]
    },
    {
      "cell_type": "markdown",
      "source": [
        "21. Write a code to create a dictionary with the keys \"name\", \"age\", and \"city\", and print it.?"
      ],
      "metadata": {
        "id": "AbSEf7opBisd"
      }
    },
    {
      "cell_type": "code",
      "source": [
        "Dict= {'name':'ajay', 'age':'24','city':'banglore'}\n",
        "print (Dict)"
      ],
      "metadata": {
        "colab": {
          "base_uri": "https://localhost:8080/"
        },
        "id": "48ua6berBjM-",
        "outputId": "c5a4864a-fa16-4b98-8bef-7dfd5593ad71"
      },
      "execution_count": 31,
      "outputs": [
        {
          "output_type": "stream",
          "name": "stdout",
          "text": [
            "{'name': 'ajay', 'age': '24', 'city': 'banglore'}\n"
          ]
        }
      ]
    },
    {
      "cell_type": "markdown",
      "source": [
        "22. Write a code to add a new key-value pair \"country\": \"USA\" to the dictionary {'name': 'John', 'age': 25}.?"
      ],
      "metadata": {
        "id": "rWx_4oxYBkry"
      }
    },
    {
      "cell_type": "code",
      "source": [
        "dict=  {'name': 'John', 'age': 25}\n",
        "dict['country']= 'USA'\n",
        "print (dict)"
      ],
      "metadata": {
        "colab": {
          "base_uri": "https://localhost:8080/"
        },
        "id": "0Mtu7BI3BlGD",
        "outputId": "43a08c19-34b0-4c06-913d-e0c8ee840dc1"
      },
      "execution_count": 32,
      "outputs": [
        {
          "output_type": "stream",
          "name": "stdout",
          "text": [
            "{'name': 'John', 'age': 25, 'country': 'USA'}\n"
          ]
        }
      ]
    },
    {
      "cell_type": "markdown",
      "source": [
        "23. Write a code to access the value associated with the key \"name\" in the dictionary {'name': 'Alice', 'age': 30}.?"
      ],
      "metadata": {
        "id": "0qzS_-usBldg"
      }
    },
    {
      "cell_type": "code",
      "source": [
        "details = {'name': 'Alice', 'age': 30}\n",
        "print(details['name'])"
      ],
      "metadata": {
        "colab": {
          "base_uri": "https://localhost:8080/"
        },
        "id": "bSVAEvkBBmJg",
        "outputId": "e0194ba8-9d4e-4f29-d24e-f57fc2ee3d66"
      },
      "execution_count": 33,
      "outputs": [
        {
          "output_type": "stream",
          "name": "stdout",
          "text": [
            "Alice\n"
          ]
        }
      ]
    },
    {
      "cell_type": "markdown",
      "source": [
        "24.  Write a code to remove the key \"age\" from the dictionary {'name': 'Bob', 'age': 22, 'city': 'New York'}?"
      ],
      "metadata": {
        "id": "yz50WEFFBmqD"
      }
    },
    {
      "cell_type": "code",
      "source": [
        "dict = {'name': 'Bob', 'age': 22, 'city': 'New York'}\n",
        "del dict['age']\n",
        "print(dict)"
      ],
      "metadata": {
        "colab": {
          "base_uri": "https://localhost:8080/"
        },
        "id": "7b7XxWLnBnPR",
        "outputId": "52abc08e-4fb9-4eb4-9439-7467dafe3e55"
      },
      "execution_count": 34,
      "outputs": [
        {
          "output_type": "stream",
          "name": "stdout",
          "text": [
            "{'name': 'Bob', 'city': 'New York'}\n"
          ]
        }
      ]
    },
    {
      "cell_type": "markdown",
      "source": [
        "25.  Write a code to check if the key \"city\" exists in the dictionary {'name': 'Alice', 'city': 'Paris'}?"
      ],
      "metadata": {
        "id": "ucKe8dqPBnmN"
      }
    },
    {
      "cell_type": "code",
      "source": [
        "dict = {'name': 'Alice', 'city': 'Paris'}\n",
        "print('city' in dict)"
      ],
      "metadata": {
        "colab": {
          "base_uri": "https://localhost:8080/"
        },
        "id": "Uqc8NvJqBobj",
        "outputId": "f1d5416b-e38e-4c5d-b3ab-79586189373f"
      },
      "execution_count": 35,
      "outputs": [
        {
          "output_type": "stream",
          "name": "stdout",
          "text": [
            "True\n"
          ]
        }
      ]
    },
    {
      "cell_type": "markdown",
      "source": [
        "26. Write a code to create a list, a tuple, and a dictionary, and print them all ?"
      ],
      "metadata": {
        "id": "0rAvdLAXBozh"
      }
    },
    {
      "cell_type": "code",
      "source": [
        "list = [1, 2, 3]\n",
        "tuple = ('a', 'b', 'c')\n",
        "dict = {\"name\": \"Bijay\", \"age\": 25}\n",
        "print(list)\n",
        "print(tuple)\n",
        "print(dict)\n"
      ],
      "metadata": {
        "colab": {
          "base_uri": "https://localhost:8080/"
        },
        "id": "VNryZzdHBplP",
        "outputId": "29cc3a3b-d19f-4c83-a202-ae5dc735b1a2"
      },
      "execution_count": 36,
      "outputs": [
        {
          "output_type": "stream",
          "name": "stdout",
          "text": [
            "[1, 2, 3]\n",
            "('a', 'b', 'c')\n",
            "{'name': 'Bijay', 'age': 25}\n"
          ]
        }
      ]
    },
    {
      "cell_type": "markdown",
      "source": [
        "27. Write a code to create a list of 5 random numbers between 1 and 100, sort it in ascending order, and print the\n",
        "result.(replaced) ?"
      ],
      "metadata": {
        "id": "iL8RAkszCN5h"
      }
    },
    {
      "cell_type": "code",
      "source": [
        "import random\n",
        "numbers = []\n",
        "for i in range(5):\n",
        "    num = random.randint(1, 100)\n",
        "    numbers.append(num)\n",
        "numbers.sort()\n",
        "print(\"Sorted random numbers:\", numbers)\n"
      ],
      "metadata": {
        "colab": {
          "base_uri": "https://localhost:8080/"
        },
        "id": "ZUdjkzL1CRm8",
        "outputId": "f7faca60-24b1-4041-cecb-a7cac4333702"
      },
      "execution_count": 37,
      "outputs": [
        {
          "output_type": "stream",
          "name": "stdout",
          "text": [
            "Sorted random numbers: [3, 10, 20, 24, 77]\n"
          ]
        }
      ]
    },
    {
      "cell_type": "markdown",
      "source": [
        "28.  Write a code to create a list with strings and print the element at the third index ?"
      ],
      "metadata": {
        "id": "iXCY8bE3CSFT"
      }
    },
    {
      "cell_type": "code",
      "source": [
        "words = [\"apple\", \"banana\", \"Ajay\", \"date\", \"Calendar\"]\n",
        "print(words[3])"
      ],
      "metadata": {
        "colab": {
          "base_uri": "https://localhost:8080/"
        },
        "id": "4WduVyrLCVnO",
        "outputId": "55da1b18-4c05-4962-9082-4a4475be2850"
      },
      "execution_count": 38,
      "outputs": [
        {
          "output_type": "stream",
          "name": "stdout",
          "text": [
            "date\n"
          ]
        }
      ]
    },
    {
      "cell_type": "markdown",
      "source": [
        "29.  Write a code to combine two dictionaries into one and print the result ?"
      ],
      "metadata": {
        "id": "hxocNXLdCWM0"
      }
    },
    {
      "cell_type": "code",
      "source": [
        "a = {'x': 1, 'y': 2}\n",
        "b = {'z': 3}\n",
        "combined_dict= {**a, **b}\n",
        "print(combined_dict)\n"
      ],
      "metadata": {
        "colab": {
          "base_uri": "https://localhost:8080/"
        },
        "id": "VGOcAnAUCahN",
        "outputId": "04f1de3c-7d00-477c-a35a-33a5a21bf745"
      },
      "execution_count": 39,
      "outputs": [
        {
          "output_type": "stream",
          "name": "stdout",
          "text": [
            "{'x': 1, 'y': 2, 'z': 3}\n"
          ]
        }
      ]
    },
    {
      "cell_type": "markdown",
      "source": [
        "30.  Write a code to convert a list of strings into a sets?"
      ],
      "metadata": {
        "id": "6XaGoGpQCbKu"
      }
    },
    {
      "cell_type": "code",
      "source": [
        "del set"
      ],
      "metadata": {
        "id": "G900cdhICfJx"
      },
      "execution_count": 59,
      "outputs": []
    },
    {
      "cell_type": "code",
      "source": [
        "words = [\"apple\", \"banana\", \"apple\", \"cherry\"]\n",
        "unique_words = set(words)\n",
        "print(unique_words)"
      ],
      "metadata": {
        "colab": {
          "base_uri": "https://localhost:8080/"
        },
        "id": "bg-R4KyPHeO3",
        "outputId": "d91191b8-7e27-49dd-d14a-56797eecfd74"
      },
      "execution_count": 60,
      "outputs": [
        {
          "output_type": "stream",
          "name": "stdout",
          "text": [
            "{'cherry', 'apple', 'banana'}\n"
          ]
        }
      ]
    }
  ]
}